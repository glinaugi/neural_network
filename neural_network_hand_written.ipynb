{
 "cells": [
  {
   "cell_type": "code",
   "execution_count": 1,
   "metadata": {},
   "outputs": [
    {
     "name": "stderr",
     "output_type": "stream",
     "text": [
      "Using TensorFlow backend.\n"
     ]
    }
   ],
   "source": [
    "from keras.datasets import mnist"
   ]
  },
  {
   "cell_type": "code",
   "execution_count": 2,
   "metadata": {},
   "outputs": [],
   "source": [
    "(train_data, train_label) , (test_data, test_label) = mnist.load_data()"
   ]
  },
  {
   "cell_type": "code",
   "execution_count": 3,
   "metadata": {},
   "outputs": [],
   "source": [
    "import numpy as np\n",
    "import scipy.special\n",
    "\n",
    "class neural_network:\n",
    "    #### initialize\n",
    "    \n",
    "    def __init__(self, input_nodes, hidden_nodes, output_nodes, lr):\n",
    "        self.input_node = input_nodes\n",
    "        self.hidden_node = hidden_nodes\n",
    "        self.output_node = output_nodes\n",
    "        \n",
    "        self.lr = lr\n",
    "        \n",
    "        \n",
    "        #### weights \n",
    "        \n",
    "        self.wih = np.random.normal(0.0, pow(self.input_node, -0.5), (self.input_node, self.hidden_node))\n",
    "        self.who = np.random.normal(0.0, pow(self.hidden_node, -0.5), (self.hidden_node, self.output_node))\n",
    "        \n",
    "        \n",
    "        #### activation function \n",
    "        \n",
    "        self.activation = lambda x: scipy.special.expit(x)\n",
    "    \n",
    "    #### training    \n",
    "        \n",
    "    def training(self, input_list, target):\n",
    "        for i in range(60000):\n",
    "            inputs = input_list\n",
    "            targets = target\n",
    "        \n",
    "            ##### \n",
    "        \n",
    "            hidden_input = np.dot(inputs, self.wih)\n",
    "            hidden_output = self.activation(hidden_input)\n",
    "        \n",
    "            #####\n",
    "        \n",
    "            final_input = np.dot(hidden_output, self.who)\n",
    "            final_output = self.activation(final_input)\n",
    "          \n",
    "            errors = targets - final_output\n",
    "            hidden_errors = np.dot(errors, self.who.T)\n",
    "            \n",
    "            \n",
    "            dd1 = self.lr * np.transpose(np.dot((errors * final_output*(1.0 - final_output)).T, (hidden_output)))\n",
    "\n",
    "            self.who += dd1\n",
    "            \n",
    "            dd2 = self.lr * np.transpose(np.dot((hidden_errors * hidden_output * (1.0 - hidden_output)).T, (inputs) ))\n",
    "            self.wih += dd2\n",
    "            \n",
    "                        \n",
    "            \n",
    "            \n",
    "       \n",
    "        \n",
    "    \n",
    "    def testing(self, input_list):\n",
    "        inputs = input_list\n",
    "        \n",
    "        hidden_input = np.dot(inputs, self.wih)\n",
    "        hidden_output = self.activation(hidden_input)\n",
    "    \n",
    "            #####\n",
    "        \n",
    "        final_input = np.dot(hidden_output, self.who)\n",
    "        final_output = self.activation(final_input)\n",
    "        \n",
    "        \n",
    "        return final_output"
   ]
  },
  {
   "cell_type": "code",
   "execution_count": 4,
   "metadata": {},
   "outputs": [],
   "source": [
    "train_data = train_data.reshape((60000, 28 * 28)) / 255\n",
    "test_data = test_data.reshape((10000, 28 * 28)) / 255"
   ]
  },
  {
   "cell_type": "code",
   "execution_count": 5,
   "metadata": {},
   "outputs": [],
   "source": [
    "targets = np.zeros([60000, 10]) + 0.01\n",
    "\n",
    "i = 0\n",
    "for target in targets:\n",
    "    target[int(train_label[i])] = 0.99\n",
    "    i += 1"
   ]
  },
  {
   "cell_type": "code",
   "execution_count": null,
   "metadata": {},
   "outputs": [],
   "source": []
  },
  {
   "cell_type": "code",
   "execution_count": null,
   "metadata": {},
   "outputs": [],
   "source": []
  }
 ],
 "metadata": {
  "kernelspec": {
   "display_name": "Python 3",
   "language": "python",
   "name": "python3"
  },
  "language_info": {
   "codemirror_mode": {
    "name": "ipython",
    "version": 3
   },
   "file_extension": ".py",
   "mimetype": "text/x-python",
   "name": "python",
   "nbconvert_exporter": "python",
   "pygments_lexer": "ipython3",
   "version": "3.6.6"
  }
 },
 "nbformat": 4,
 "nbformat_minor": 2
}
